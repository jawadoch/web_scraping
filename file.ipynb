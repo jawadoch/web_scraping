{
 "cells": [
  {
   "cell_type": "markdown",
   "id": "36efc18f-d87a-4199-98e5-ac0154821047",
   "metadata": {},
   "source": [
    "Install yfinance library"
   ]
  },
  {
   "cell_type": "code",
   "execution_count": null,
   "id": "922cbc22-1c1c-4f22-858f-83ca1544d0e5",
   "metadata": {},
   "outputs": [],
   "source": [
    "!pip install yfinance==0.2.4\n",
    "#!pip install pandas==1.3.3"
   ]
  },
  {
   "cell_type": "markdown",
   "id": "5376a5c6-41f6-44d2-8bc2-1c6150c9c331",
   "metadata": {},
   "source": [
    "Import yfinance and pandas library"
   ]
  },
  {
   "cell_type": "code",
   "execution_count": null,
   "id": "e9cdf2ed-67e2-4e95-b65e-55074226162a",
   "metadata": {},
   "outputs": [],
   "source": [
    "import yfinance as yf\n",
    "import pandas as pd"
   ]
  },
  {
   "cell_type": "markdown",
   "id": "07e096e7-a3e7-43cf-afe2-34db2ebd51b4",
   "metadata": {},
   "source": [
    "Using the Ticker module we can create an object that will allow us to access functions to extract data.\n",
    "AAPL: apple data"
   ]
  },
  {
   "cell_type": "code",
   "execution_count": null,
   "id": "3e892d13-a303-41bb-b4fc-25a444937f14",
   "metadata": {},
   "outputs": [],
   "source": [
    "apple = yf.Ticker(\"AAPL\")"
   ]
  },
  {
   "cell_type": "markdown",
   "id": "84dd5f47-a839-41f4-9e0a-9827456ac7c5",
   "metadata": {},
   "source": [
    "This is a jason file contain apple dataframe"
   ]
  },
  {
   "cell_type": "code",
   "execution_count": null,
   "id": "c7f0bf9c-2945-4535-a69d-8e3ff85bb120",
   "metadata": {},
   "outputs": [],
   "source": [
    "!wget https://cf-courses-data.s3.us.cloud-object-storage.appdomain.cloud/IBMDeveloperSkillsNetwork-PY0220EN-SkillsNetwork/data/apple.json"
   ]
  },
  {
   "cell_type": "markdown",
   "id": "b17928ea-c0dd-43a2-a14e-fba11e094644",
   "metadata": {},
   "source": [
    "Extract information about the stock"
   ]
  },
  {
   "cell_type": "code",
   "execution_count": null,
   "id": "6157513d-4544-4dd8-ba28-14024d371ed5",
   "metadata": {},
   "outputs": [],
   "source": [
    "import json\n",
    "with open('apple.json') as json_file:\n",
    "    apple_info = json.load(json_file)\n",
    "    # Print the type of data variable    \n",
    "    #print(\"Type:\", type(apple_info))\n",
    "apple_info"
   ]
  },
  {
   "cell_type": "markdown",
   "id": "d50f993e-33ee-4c50-8673-d3f07780ff3d",
   "metadata": {},
   "source": [
    "Using the history() method we can get the share price of the stock over a certain period of time."
   ]
  },
  {
   "cell_type": "code",
   "execution_count": null,
   "id": "5b2b53f1-a426-4d6d-9f2b-421b7e5c4d99",
   "metadata": {},
   "outputs": [],
   "source": [
    "apple_share_price_data = apple.history(period=\"max\")"
   ]
  },
  {
   "cell_type": "markdown",
   "id": "40e301c1-0d01-4ae7-a3af-654b5aa4dd98",
   "metadata": {},
   "source": [
    "We can reset the index of the DataFrame with the reset_index function."
   ]
  },
  {
   "cell_type": "code",
   "execution_count": null,
   "id": "fe85b4ed-a7a9-4882-b0a6-1296623c317e",
   "metadata": {},
   "outputs": [],
   "source": [
    "apple_share_price_data.reset_index(inplace=True)"
   ]
  },
  {
   "cell_type": "markdown",
   "id": "f9d577e0-bc0b-4d45-b6b1-b40cd00b5daf",
   "metadata": {},
   "source": [
    "We can plot the `Open` price against the `Date`:\n"
   ]
  },
  {
   "cell_type": "code",
   "execution_count": null,
   "id": "31743507-d7e7-424e-8ac6-a19f3f4169e1",
   "metadata": {},
   "outputs": [],
   "source": [
    "apple_share_price_data.plot(x=\"Date\", y=\"Open\")"
   ]
  },
  {
   "cell_type": "markdown",
   "id": "19814983-3e42-4951-a0c4-17f01a893374",
   "metadata": {},
   "source": [
    " Using the variable dividends we can get a dataframe of the data."
   ]
  },
  {
   "cell_type": "code",
   "execution_count": null,
   "id": "eb3460b1-13f2-48ec-829e-e492b87c54cf",
   "metadata": {},
   "outputs": [],
   "source": [
    "apple.dividends"
   ]
  },
  {
   "cell_type": "markdown",
   "id": "4d3f54ba-aab8-491f-b5b4-6f08f858c724",
   "metadata": {},
   "source": [
    "We can plot the dividends overtime:\n"
   ]
  },
  {
   "cell_type": "code",
   "execution_count": null,
   "id": "9c9b9a2e-1a86-474a-8e83-cadf97394722",
   "metadata": {},
   "outputs": [],
   "source": [
    "apple.dividends.plot()"
   ]
  }
 ],
 "metadata": {
  "kernelspec": {
   "display_name": "Python",
   "language": "python",
   "name": "conda-env-python-py"
  },
  "language_info": {
   "codemirror_mode": {
    "name": "ipython",
    "version": 3
   },
   "file_extension": ".py",
   "mimetype": "text/x-python",
   "name": "python",
   "nbconvert_exporter": "python",
   "pygments_lexer": "ipython3",
   "version": "3.7.12"
  }
 },
 "nbformat": 4,
 "nbformat_minor": 5
}
